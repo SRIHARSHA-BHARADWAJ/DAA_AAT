{
  "nbformat": 4,
  "nbformat_minor": 0,
  "metadata": {
    "colab": {
      "provenance": []
    },
    "kernelspec": {
      "name": "python3",
      "display_name": "Python 3"
    },
    "language_info": {
      "name": "python"
    }
  },
  "cells": [
    {
      "cell_type": "code",
      "execution_count": null,
      "metadata": {
        "colab": {
          "base_uri": "https://localhost:8080/"
        },
        "id": "c8vqAGnKkvTp",
        "outputId": "7c7bbb28-234c-4e97-c734-15c1ed3e123a"
      },
      "outputs": [
        {
          "output_type": "stream",
          "name": "stdout",
          "text": [
            "2\n",
            "3 12\n",
            "1 6 9\n",
            "5 9\n",
            "3 4 4 4 8\n",
            "12\n",
            "9\n"
          ]
        }
      ],
      "source": [
        "def max_sum_up_to(t, cases):\n",
        "    results = []\n",
        "\n",
        "    for case in cases:\n",
        "        (size, target), nums = case\n",
        "\n",
        "        # Initialize the DP array\n",
        "        dp = [0] * (target + 1)\n",
        "\n",
        "        # Fill the DP array\n",
        "        for curr in range(1, target + 1):\n",
        "            for num in nums:\n",
        "                if num <= curr:\n",
        "                    dp[curr] = max(dp[curr], dp[curr - num] + num)\n",
        "\n",
        "        results.append(dp[target])\n",
        "\n",
        "    return results\n",
        "\n",
        "# Input processing\n",
        "if __name__ == \"__main__\":\n",
        "    num_cases = int(input())\n",
        "    cases = []\n",
        "\n",
        "    for _ in range(num_cases):\n",
        "        size, target = map(int, input().split())\n",
        "        nums = list(map(int, input().split()))\n",
        "        cases.append(((size, target), nums))\n",
        "\n",
        "    output = max_sum_up_to(num_cases, cases)\n",
        "    for result in output:\n",
        "        print(result)\n"
      ]
    }
  ]
}