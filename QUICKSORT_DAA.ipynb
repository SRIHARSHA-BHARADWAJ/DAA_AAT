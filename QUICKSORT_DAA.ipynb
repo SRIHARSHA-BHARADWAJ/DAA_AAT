{
  "nbformat": 4,
  "nbformat_minor": 0,
  "metadata": {
    "colab": {
      "provenance": []
    },
    "kernelspec": {
      "name": "python3",
      "display_name": "Python 3"
    },
    "language_info": {
      "name": "python"
    }
  },
  "cells": [
    {
      "cell_type": "code",
      "execution_count": null,
      "metadata": {
        "colab": {
          "base_uri": "https://localhost:8080/"
        },
        "id": "RlScy4rXpA0K",
        "outputId": "e69d91e5-dbc3-471d-a5a8-810a56aa6059"
      },
      "outputs": [
        {
          "output_type": "stream",
          "name": "stdout",
          "text": [
            "5\n",
            "4 5 3 7 2\n",
            "3 2 4 5 7\n"
          ]
        }
      ],
      "source": [
        "def quickSort(arr):\n",
        "    pivot = arr[0]\n",
        "    left = []\n",
        "    right = []\n",
        "    middle = [pivot]\n",
        "\n",
        "    for num in arr[1:]:\n",
        "        if num < pivot:\n",
        "            left.append(num)\n",
        "        elif num > pivot:\n",
        "            right.append(num)\n",
        "        else:\n",
        "            middle.append(num)\n",
        "\n",
        "    return left + middle + right\n",
        "\n",
        "if __name__ == \"__main__\":\n",
        "    n = int(input().strip())\n",
        "    arr = list(map(int, input().strip().split()))\n",
        "    result = quickSort(arr)\n",
        "    print(\" \".join(map(str, result)))\n"
      ]
    }
  ]
}