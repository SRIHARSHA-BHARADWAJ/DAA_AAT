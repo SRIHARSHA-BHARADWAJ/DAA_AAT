{
  "nbformat": 4,
  "nbformat_minor": 0,
  "metadata": {
    "colab": {
      "provenance": []
    },
    "kernelspec": {
      "name": "python3",
      "display_name": "Python 3"
    },
    "language_info": {
      "name": "python"
    }
  },
  "cells": [
    {
      "cell_type": "code",
      "execution_count": null,
      "metadata": {
        "colab": {
          "base_uri": "https://localhost:8080/"
        },
        "id": "bKA5-2sin6ro",
        "outputId": "968b39c3-7d15-48a2-ad21-aa2ef273aedd"
      },
      "outputs": [
        {
          "output_type": "stream",
          "name": "stdout",
          "text": [
            "2\n",
            "10 100\n",
            "5 100\n",
            "1\n",
            "4\n",
            "1\n",
            "110\n"
          ]
        }
      ],
      "source": [
        "from collections import defaultdict\n",
        "\n",
        "def maximumPeople(towns, cloud_start, cloud_end):\n",
        "    towns = sorted(towns)\n",
        "    cloud_start = sorted(cloud_start)\n",
        "    cloud_end = sorted(cloud_end)\n",
        "\n",
        "    cloud_start_i = 0\n",
        "    cloud_end_i = 0\n",
        "    clouds = set()\n",
        "\n",
        "    population_by_cloud = defaultdict(int)\n",
        "    free_population = 0\n",
        "\n",
        "    for town in towns:\n",
        "        town_x = town[0]\n",
        "\n",
        "        while cloud_start_i < len(cloud_start) and cloud_start[cloud_start_i][0] <= town_x:\n",
        "            clouds.add(cloud_start[cloud_start_i][1])\n",
        "            cloud_start_i += 1\n",
        "\n",
        "        while cloud_end_i < len(cloud_end) and cloud_end[cloud_end_i][0] < town_x:\n",
        "            clouds.remove(cloud_end[cloud_end_i][1])\n",
        "            cloud_end_i += 1\n",
        "\n",
        "        if len(clouds) == 1:\n",
        "            cloud_id = list(clouds)[0]\n",
        "            population_by_cloud[cloud_id] += town[1]\n",
        "        elif len(clouds) == 0:\n",
        "            free_population += town[1]\n",
        "\n",
        "    return max(population_by_cloud.values(), default=0) + free_population\n",
        "\n",
        "\n",
        "def main():\n",
        "    n = int(input().strip())\n",
        "    populations = [int(x) for x in input().strip().split()]\n",
        "    positions = [int(x) for x in input().strip().split()]\n",
        "    towns = [[pos, pop] for pos, pop in zip(positions, populations)]\n",
        "\n",
        "    m = int(input().strip())\n",
        "    cloud_positions = [int(x) for x in input().strip().split()]\n",
        "    cloud_ranges = [int(x) for x in input().strip().split()]\n",
        "\n",
        "    cloud_start = [[cloud_positions[i] - cloud_ranges[i], i] for i in range(m)]\n",
        "    cloud_end = [[cloud_positions[i] + cloud_ranges[i], i] for i in range(m)]\n",
        "\n",
        "    result = maximumPeople(towns, cloud_start, cloud_end)\n",
        "    print(result)\n",
        "\n",
        "if __name__ == \"__main__\":\n",
        "    main()\n"
      ]
    }
  ]
}