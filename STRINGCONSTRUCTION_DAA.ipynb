{
  "nbformat": 4,
  "nbformat_minor": 0,
  "metadata": {
    "colab": {
      "provenance": []
    },
    "kernelspec": {
      "name": "python3",
      "display_name": "Python 3"
    },
    "language_info": {
      "name": "python"
    }
  },
  "cells": [
    {
      "cell_type": "code",
      "execution_count": null,
      "metadata": {
        "colab": {
          "base_uri": "https://localhost:8080/"
        },
        "id": "jfp2645hp06C",
        "outputId": "b02c2cfb-7891-492c-80bc-b90db664ab51"
      },
      "outputs": [
        {
          "output_type": "stream",
          "name": "stdout",
          "text": [
            "2\n",
            "abcd\n",
            "4\n",
            "abab\n",
            "2\n"
          ]
        }
      ],
      "source": [
        "def stringConstruction(s):\n",
        "    unique_chars = set(s)\n",
        "    return len(unique_chars)\n",
        "\n",
        "if __name__ == \"__main__\":\n",
        "    n = int(input().strip())\n",
        "    for _ in range(n):\n",
        "        s = input().strip()\n",
        "        cost = stringConstruction(s)\n",
        "        print(cost)\n"
      ]
    }
  ]
}